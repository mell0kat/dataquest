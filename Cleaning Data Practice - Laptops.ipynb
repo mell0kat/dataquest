{
 "cells": [
  {
   "cell_type": "markdown",
   "metadata": {},
   "source": [
    "## First task - clean the data set"
   ]
  },
  {
   "cell_type": "code",
   "execution_count": 2,
   "metadata": {},
   "outputs": [],
   "source": [
    "import pandas as pd"
   ]
  },
  {
   "cell_type": "markdown",
   "metadata": {},
   "source": [
    "1. Read in data set with proper encoding"
   ]
  },
  {
   "cell_type": "code",
   "execution_count": 3,
   "metadata": {},
   "outputs": [],
   "source": [
    "try:\n",
    "    laptops = pd.read_csv(\"./data/laptops.csv\", encoding='Windows-1251')\n",
    "except UnicodeDecodeError:\n",
    "    laptops = pd.read_csv(\"./data/laptops.csv\", encoding='Latin-1')"
   ]
  },
  {
   "cell_type": "markdown",
   "metadata": {},
   "source": [
    "2. Inspect columns & apply consistent naming\n"
   ]
  },
  {
   "cell_type": "code",
   "execution_count": 4,
   "metadata": {},
   "outputs": [
    {
     "name": "stdout",
     "output_type": "stream",
     "text": [
      "<class 'pandas.core.frame.DataFrame'>\n",
      "RangeIndex: 1303 entries, 0 to 1302\n",
      "Data columns (total 13 columns):\n",
      "Manufacturer                1303 non-null object\n",
      "Model Name                  1303 non-null object\n",
      "Category                    1303 non-null object\n",
      "Screen Size                 1303 non-null object\n",
      "Screen                      1303 non-null object\n",
      "CPU                         1303 non-null object\n",
      "RAM                         1303 non-null object\n",
      " Storage                    1303 non-null object\n",
      "GPU                         1303 non-null object\n",
      "Operating System            1303 non-null object\n",
      "Operating System Version    1133 non-null object\n",
      "Weight                      1303 non-null object\n",
      "Price (Euros)               1303 non-null object\n",
      "dtypes: object(13)\n",
      "memory usage: 132.4+ KB\n"
     ]
    }
   ],
   "source": [
    "laptops.info()"
   ]
  },
  {
   "cell_type": "code",
   "execution_count": 5,
   "metadata": {},
   "outputs": [],
   "source": [
    "def clean_col(col):\n",
    "    col = col.strip()\n",
    "    col = col.replace('Operating System', 'os')\n",
    "    col = col.replace(' ', '_')\n",
    "    col = col.replace(\"(\",\"\")\n",
    "    col = col.replace(\")\",\"\")\n",
    "    col = col.lower()\n",
    "    return col"
   ]
  },
  {
   "cell_type": "code",
   "execution_count": 6,
   "metadata": {},
   "outputs": [
    {
     "data": {
      "text/plain": [
       "Index(['manufacturer', 'model_name', 'category', 'screen_size', 'screen',\n",
       "       'cpu', 'ram', 'storage', 'gpu', 'os', 'os_version', 'weight',\n",
       "       'price_euros'],\n",
       "      dtype='object')"
      ]
     },
     "execution_count": 6,
     "metadata": {},
     "output_type": "execute_result"
    }
   ],
   "source": [
    "laptops.columns = [ clean_col(col) for col in laptops.columns ]\n",
    "laptops.columns"
   ]
  },
  {
   "cell_type": "markdown",
   "metadata": {},
   "source": [
    "3. Change data types of columns"
   ]
  },
  {
   "cell_type": "code",
   "execution_count": 7,
   "metadata": {},
   "outputs": [
    {
     "data": {
      "text/plain": [
       "manufacturer           object\n",
       "model_name             object\n",
       "category               object\n",
       "screen_size_inches    float64\n",
       "screen                 object\n",
       "cpu                    object\n",
       "ram_gb                  int64\n",
       "storage                object\n",
       "gpu                    object\n",
       "os                     object\n",
       "os_version             object\n",
       "weight                 object\n",
       "price_euros            object\n",
       "dtype: object"
      ]
     },
     "execution_count": 7,
     "metadata": {},
     "output_type": "execute_result"
    }
   ],
   "source": [
    "laptops[\"screen_size\"] = laptops[\"screen_size\"].str.replace('\"','').astype(float)\n",
    "laptops.rename({\"screen_size\": \"screen_size_inches\"}, axis=1, inplace=True)\n",
    "\n",
    "laptops['ram'] = laptops['ram'].str.replace(\"GB\", \"\").astype(int)\n",
    "laptops.rename({ \"ram\": \"ram_gb\" }, inplace = True, axis=1)\n",
    "\n",
    "dtypes = laptops.dtypes\n",
    "dtypes"
   ]
  },
  {
   "cell_type": "markdown",
   "metadata": {},
   "source": [
    "#### Process for converting data columns to numerical\n",
    "1. Explore the data column\n",
    "2. Identify patterns and special cases\n",
    "3. Remove non-digit chars\n",
    "4. Convert column to numerical dtype\n",
    "5. Renname column if necessary"
   ]
  },
  {
   "cell_type": "code",
   "execution_count": 8,
   "metadata": {},
   "outputs": [],
   "source": [
    "weight_unique = laptops['weight'].unique()\n",
    "price_unique = laptops['price_euros'].unique()\n"
   ]
  },
  {
   "cell_type": "code",
   "execution_count": 9,
   "metadata": {},
   "outputs": [
    {
     "data": {
      "text/plain": [
       "array(['1.37kg', '1.34kg', '1.86kg', '1.83kg', '2.1kg', '2.04kg', '1.3kg',\n",
       "       '1.6kg', '2.2kg', '0.92kg', '1.22kg', '0.98kg', '2.5kg', '1.62kg',\n",
       "       '1.91kg', '2.3kg', '1.35kg', '1.88kg', '1.89kg', '1.65kg',\n",
       "       '2.71kg', '1.2kg', '1.44kg', '2.8kg', '2kg', '2.65kg', '2.77kg',\n",
       "       '3.2kg', '0.69kg', '1.49kg', '2.4kg', '2.13kg', '2.43kg', '1.7kg',\n",
       "       '1.4kg', '1.8kg', '1.9kg', '3kg', '1.252kg', '2.7kg', '2.02kg',\n",
       "       '1.63kg', '1.96kg', '1.21kg', '2.45kg', '1.25kg', '1.5kg',\n",
       "       '2.62kg', '1.38kg', '1.58kg', '1.85kg', '1.23kg', '1.26kg',\n",
       "       '2.16kg', '2.36kg', '2.05kg', '1.32kg', '1.75kg', '0.97kg',\n",
       "       '2.9kg', '2.56kg', '1.48kg', '1.74kg', '1.1kg', '1.56kg', '2.03kg',\n",
       "       '1.05kg', '4.4kg', '1.90kg', '1.29kg', '2.0kg', '1.95kg', '2.06kg',\n",
       "       '1.12kg', '1.42kg', '3.49kg', '3.35kg', '2.23kg', '4.42kg',\n",
       "       '2.69kg', '2.37kg', '4.7kg', '3.6kg', '2.08kg', '4.3kg', '1.68kg',\n",
       "       '1.41kg', '4.14kg', '2.18kg', '2.24kg', '2.67kg', '2.14kg',\n",
       "       '1.36kg', '2.25kg', '2.15kg', '2.19kg', '2.54kg', '3.42kg',\n",
       "       '1.28kg', '2.33kg', '1.45kg', '2.79kg', '1.84kg', '2.6kg',\n",
       "       '2.26kg', '3.25kg', '1.59kg', '1.13kg', '1.78kg', '1.10kg',\n",
       "       '1.15kg', '1.27kg', '1.43kg', '2.31kg', '1.16kg', '1.64kg',\n",
       "       '2.17kg', '1.47kg', '3.78kg', '1.79kg', '0.91kg', '1.99kg',\n",
       "       '4.33kg', '1.93kg', '1.87kg', '2.63kg', '3.4kg', '3.14kg',\n",
       "       '1.94kg', '1.24kg', '4.6kg', '4.5kg', '2.73kg', '1.39kg', '2.29kg',\n",
       "       '2.59kg', '2.94kg', '1.14kg', '3.8kg', '3.31kg', '1.09kg',\n",
       "       '3.21kg', '1.19kg', '1.98kg', '1.17kg', '4.36kg', '1.71kg',\n",
       "       '2.32kg', '4.2kg', '1.55kg', '0.81kg', '1.18kg', '2.72kg',\n",
       "       '1.31kg', '0.920kg', '3.74kg', '1.76kg', '1.54kg', '2.83kg',\n",
       "       '2.07kg', '2.38kg', '3.58kg', '1.08kg', '2.20kg', '2.75kg',\n",
       "       '1.70kg', '2.99kg', '1.11kg', '2.09kg', '4kgs', '3.0kg', '0.99kg',\n",
       "       '3.52kg', '2.591kg', '2.21kg', '3.3kg', '2.191kg', '2.34kg',\n",
       "       '4.0kg'], dtype=object)"
      ]
     },
     "execution_count": 9,
     "metadata": {},
     "output_type": "execute_result"
    }
   ],
   "source": [
    "weight_unique"
   ]
  },
  {
   "cell_type": "code",
   "execution_count": 10,
   "metadata": {},
   "outputs": [
    {
     "data": {
      "text/plain": [
       "array(['1339,69', '898,94', '575,00', '2537,45', '1803,60', '400,00',\n",
       "       '2139,97', '1158,70', '1495,00', '770,00', '393,90', '344,99',\n",
       "       '2439,97', '498,90', '1262,40', '1518,55', '745,00', '2858,00',\n",
       "       '499,00', '979,00', '191,90', '999,00', '258,00', '819,00',\n",
       "       '659,00', '418,64', '1099,00', '800,00', '1298,00', '896,00',\n",
       "       '244,99', '199,00', '439,00', '1869,00', '998,00', '249,00',\n",
       "       '367,00', '488,69', '879,00', '389,00', '1499,00', '522,99',\n",
       "       '682,00', '1419,00', '369,00', '1299,00', '639,00', '466,00',\n",
       "       '319,00', '841,00', '398,49', '1103,00', '384,00', '767,80',\n",
       "       '586,19', '2449,00', '415,00', '599,00', '941,00', '690,00',\n",
       "       '1983,00', '438,69', '229,00', '549,00', '949,00', '1089,00',\n",
       "       '955,00', '870,00', '1095,00', '519,00', '855,00', '530,00',\n",
       "       '977,00', '1096,16', '1510,00', '860,00', '399,00', '395,00',\n",
       "       '1349,00', '699,00', '598,99', '1449,00', '1649,00', '689,00',\n",
       "       '1197,00', '1195,00', '1049,00', '847,00', '599,90', '485,00',\n",
       "       '577,00', '1249,00', '719,00', '349,00', '647,00', '1119,00',\n",
       "       '1340,00', '414,90', '1193,00', '1480,00', '1262,00', '1379,00',\n",
       "       '1399,00', '722,00', '1629,00', '1398,99', '1084,00', '1130,33',\n",
       "       '564,00', '1118,00', '479,00', '2241,50', '629,00', '1271,00',\n",
       "       '451,00', '259,00', '812,00', '277,99', '1396,00', '928,00',\n",
       "       '638,99', '449,00', '884,00', '572,00', '598,00', '988,00',\n",
       "       '252,36', '938,00', '655,00', '1116,02', '869,00', '602,00',\n",
       "       '2014,00', '344,00', '2029,00', '447,00', '1249,26', '899,00',\n",
       "       '498,00', '1890,00', '1082,00', '619,00', '1315,00', '403,00',\n",
       "       '805,00', '728,00', '1079,00', '348,00', '1799,00', '363,51',\n",
       "       '1060,49', '854,00', '754,00', '309,00', '489,00', '923,00',\n",
       "       '459,00', '2799,00', '813,00', '1849,00', '793,00', '1199,00',\n",
       "       '1549,00', '2397,00', '779,00', '989,00', '1085,00', '2824,00',\n",
       "       '260,00', '999,90', '698,00', '839,00', '914,00', '6099,00',\n",
       "       '959,00', '1045,00', '1845,00', '493,00', '742,00', '1749,00',\n",
       "       '3055,00', '1398,00', '1949,00', '597,00', '1407,00', '931,88',\n",
       "       '589,00', '1031,00', '1149,00', '1279,00', '677,35', '1363,00',\n",
       "       '794,00', '2456,34', '832,00', '859,01', '769,00', '891,00',\n",
       "       '1269,00', '398,99', '330,00', '859,00', '390,00', '3890,00',\n",
       "       '846,00', '1145,00', '889,00', '985,00', '559,00', '2999,00',\n",
       "       '675,00', '2040,00', '469,00', '702,00', '445,90', '1059,00',\n",
       "       '2499,00', '1699,00', '1142,00', '444,00', '657,00', '565,00',\n",
       "       '799,00', '467,00', '1018,00', '880,00', '1958,90', '735,07',\n",
       "       '713,07', '849,00', '428,00', '829,00', '579,00', '951,00',\n",
       "       '1097,00', '1179,00', '659,01', '1187,00', '1829,00', '739,00',\n",
       "       '2884,86', '1468,00', '509,00', '2122,00', '649,00', '1265,00',\n",
       "       '359,99', '1975,00', '1043,00', '2099,00', '275,00', '844,00',\n",
       "       '459,90', '980,00', '1292,00', '1094,00', '902,00', '292,00',\n",
       "       '1049,90', '1335,00', '2639,00', '943,00', '1334,00', '1268,00',\n",
       "       '1144,00', '274,99', '1142,75', '274,90', '716,00', '1579,00',\n",
       "       '1129,00', '279,00', '1607,96', '375,00', '663,00', '2027,42',\n",
       "       '1304,00', '1409,00', '1738,27', '1403,00', '970,90', '321,99',\n",
       "       '557,37', '1427,00', '945,00', '809,00', '1750,00', '426,00',\n",
       "       '2199,00', '869,01', '488,99', '553,00', '286,00', '1191,00',\n",
       "       '403,50', '1655,00', '1748,90', '2282,00', '1369,00', '2135,00',\n",
       "       '2509,00', '1039,00', '1591,00', '693,99', '778,87', '1229,56',\n",
       "       '2712,00', '2625,00', '306,00', '1529,00', '1144,50', '2249,00',\n",
       "       '1873,00', '1747,00', '1680,00', '409,00', '304,45', '1925,00',\n",
       "       '1943,00', '789,01', '598,90', '1500,00', '539,95', '1215,38',\n",
       "       '1899,00', '1159,00', '1142,40', '1999,00', '299,00', '269,00',\n",
       "       '1010,00', '2445,00', '1695,00', '347,00', '2382,00', '749,00',\n",
       "       '1429,00', '441,80', '1993,00', '1027,74', '2589,00', '1534,00',\n",
       "       '1345,00', '2046,00', '639,90', '544,00', '435,00', '2090,00',\n",
       "       '304,00', '759,00', '1858,00', '1154,00', '1275,00', '1841,85',\n",
       "       '740,00', '2408,00', '1364,00', '1672,00', '586,60', '726,00',\n",
       "       '248,90', '2338,00', '1798,00', '1950,00', '1011,99', '1350,00',\n",
       "       '898,90', '911,00', '340,00', '618,99', '1599,00', '265,00',\n",
       "       '1224,00', '613,00', '1323,00', '836,00', '1219,24', '1399,95',\n",
       "       '245,00', '521,47', '2968,00', '1504,00', '1279,73', '585,00',\n",
       "       '1377,00', '3012,77', '797,41', '735,87', '798,00', '705,50',\n",
       "       '785,00', '462,35', '397,00', '1729,00', '1116,99', '2699,00',\n",
       "       '544,15', '1280,00', '224,00', '255,00', '568,90', '617,90',\n",
       "       '630,00', '1965,00', '990,00', '1860,99', '830,00', '685,00',\n",
       "       '1865,00', '2663,00', '2729,00', '749,01', '1008,52', '1537,39',\n",
       "       '295,00', '2349,00', '1498,00', '1673,00', '609,00', '1770,00',\n",
       "       '603,00', '529,00', '2025,00', '1474,00', '1670,00', '1763,00',\n",
       "       '1219,00', '668,48', '329,00', '465,00', '2299,00', '4899,00',\n",
       "       '879,01', '443,90', '359,00', '1168,00', '569,00', '1389,00',\n",
       "       '2267,86', '379,00', '1124,00', '1465,00', '776,00', '932,00',\n",
       "       '239,00', '468,00', '639,01', '1820,00', '1900,00', '1479,00',\n",
       "       '906,62', '1757,42', '2399,00', '1109,00', '520,90', '2450,00',\n",
       "       '1169,00', '450,00', '274,00', '919,00', '2599,00', '1213,00',\n",
       "       '1584,00', '709,00', '1449,90', '1191,80', '364,90', '1064,00',\n",
       "       '1135,00', '1196,00', '3147,37', '1229,00', '419,00', '535,00',\n",
       "       '539,00', '1486,77', '1258,00', '412,00', '1867,85', '817,95',\n",
       "       '1034,00', '1294,00', '495,00', '997,90', '2051,00', '2813,75',\n",
       "       '612,61', '545,67', '318,00', '1907,99', '2590,00', '973,00',\n",
       "       '669,00', '1877,00', '429,00', '621,45', '795,00', '1855,00',\n",
       "       '655,01', '298,00', '1426,66', '857,07', '1200,00', '1686,64',\n",
       "       '836,60', '3659,40', '1348,48', '489,90', '589,52', '1935,00',\n",
       "       '650,00', '960,00', '2419,00', '2094,48', '410,80', '1207,00',\n",
       "       '665,00', '1535,00', '3299,00', '1126,71', '4389,00', '475,00',\n",
       "       '1096,00', '849,90', '1561,00', '2868,99', '1048,00', '1859,00',\n",
       "       '1559,00', '470,34', '1181,27', '1020,00', '1244,00', '2370,00',\n",
       "       '636,00', '2899,00', '581,90', '3588,80', '2350,00', '1764,00',\n",
       "       '1891,00', '1339,00', '202,90', '1970,00', '1165,00', '2330,00',\n",
       "       '810,00', '2064,90', '744,00', '780,00', '1679,00', '2415,00',\n",
       "       '961,00', '789,81', '385,00', '2505,02', '755,00', '1090,00',\n",
       "       '1875,00', '1358,00', '355,00', '5499,00', '1186,00', '1650,00',\n",
       "       '2774,63', '325,00', '590,00', '3072,89', '910,00', '713,99',\n",
       "       '1870,00', '615,00', '1026,00', '2277,00', '865,00', '1903,00',\n",
       "       '787,00', '2559,00', '850,66', '1285,00', '1017,00', '2240,00',\n",
       "       '1778,00', '1055,00', '1388,00', '735,00', '1690,00', '935,00',\n",
       "       '912,50', '1700,00', '684,80', '455,70', '1369,90', '297,00',\n",
       "       '2649,00', '1475,00', '929,00', '900,00', '614,00', '2013,10',\n",
       "       '2049,00', '1962,99', '1483,00', '789,00', '1205,00', '3100,00',\n",
       "       '1018,99', '881,00', '1119,91', '684,99', '1296,99', '1825,00',\n",
       "       '729,90', '708,06', '288,90', '1105,00', '1669,00', '558,60',\n",
       "       '1639,00', '2758,00', '1472,20', '1775,00', '1460,00', '1488,99',\n",
       "       '3154,00', '775,00', '1760,00', '1009,00', '1790,00', '846,50',\n",
       "       '465,62', '825,00', '3149,00', '695,00', '1962,98', '2800,00',\n",
       "       '1180,00', '2049,90', '1002,00', '915,00', '806,00', '1189,00',\n",
       "       '1908,00', '270,62', '1150,00', '380,00', '2089,00', '1260,00',\n",
       "       '547,00', '1099,99', '1049,26', '684,00', '1539,00', '1590,00',\n",
       "       '1887,21', '1210,00', '769,99', '1490,00', '2229,00', '795,99',\n",
       "       '1185,43', '1046,44', '1060,00', '1624,00', '1080,00', '1228,99',\n",
       "       '1725,00', '1062,95', '1010,51', '210,80', '1425,00', '1049,60',\n",
       "       '1000,00', '2103,34', '1469,00', '1545,64', '2289,99', '287,90',\n",
       "       '2620,00', '2254,00', '705,15', '1819,00', '1070,00', '989,99',\n",
       "       '1929,00', '1458,00', '3975,00', '798,01', '1329,00', '1300,00',\n",
       "       '481,98', '1713,49', '540,00', '940,00', '3240,00', '646,27',\n",
       "       '750,00', '1030,99', '387,00', '393,49', '345,99', '818,35',\n",
       "       '638,80', '500,00', '1135,15', '1166,97', '209,00', '1413,10',\n",
       "       '1511,19', '867,00', '398,00', '769,15', '1969,00', '2749,99',\n",
       "       '1029,00', '2226,00', '1312,49', '196,00', '1513,00', '523,63',\n",
       "       '1895,00', '2050,38', '278,00', '752,00', '616,00', '3949,40',\n",
       "       '784,00', '2171,72', '2440,00', '1142,80', '2296,95', '1009,90',\n",
       "       '2339,00', '339,00', '2250,68', '478,89', '1492,80', '788,49',\n",
       "       '2041,00', '1769,00', '476,99', '1390,00', '679,00', '1305,00',\n",
       "       '2153,37', '1637,00', '831,00', '895,01', '333,00', '909,00',\n",
       "       '691,00', '1163,00', '1327,00', '368,00', '2150,00', '272,00',\n",
       "       '2048,90', '2680,00', '1948,99', '174,00', '1272,00', '1476,11',\n",
       "       '1713,37', '1477,00', '521,86', '3499,00', '469,01', '1598,00',\n",
       "       '478,00', '2198,19', '737,00', '597,57', '361,80', '1600,00',\n",
       "       '875,00', '2325,00', '573,00', '1813,00', '324,00', '1072,00',\n",
       "       '443,99', '490,00', '895,00', '833,01', '729,00', '289,00',\n",
       "       '549,99', '805,99', '720,32', '638,00', '764,00'], dtype=object)"
      ]
     },
     "execution_count": 10,
     "metadata": {},
     "output_type": "execute_result"
    }
   ],
   "source": [
    "price_unique"
   ]
  },
  {
   "cell_type": "code",
   "execution_count": 11,
   "metadata": {},
   "outputs": [],
   "source": [
    "laptops['weight'] = (laptops['weight']\n",
    "                     .str.replace(\"kgs\", \"\")\n",
    "                     .str.replace(\"kg\", \"\")\n",
    "                     .astype(float))\n",
    "laptops.rename({ 'weight': 'weight_kg' }, inplace=True, axis=1)\n"
   ]
  },
  {
   "cell_type": "code",
   "execution_count": 12,
   "metadata": {},
   "outputs": [],
   "source": [
    "laptops['price_euros'] = (laptops['price_euros']\n",
    "                     .str.replace(\",\", \".\")\n",
    "                     .astype(float))\n",
    "\n",
    "weight_describe = laptops['weight_kg'].describe()\n",
    "price_describe = laptops['price_euros'].describe()"
   ]
  },
  {
   "cell_type": "code",
   "execution_count": 13,
   "metadata": {},
   "outputs": [
    {
     "name": "stdout",
     "output_type": "stream",
     "text": [
      "<class 'pandas.core.frame.DataFrame'>\n",
      "RangeIndex: 1303 entries, 0 to 1302\n",
      "Data columns (total 13 columns):\n",
      "manufacturer          1303 non-null object\n",
      "model_name            1303 non-null object\n",
      "category              1303 non-null object\n",
      "screen_size_inches    1303 non-null float64\n",
      "screen                1303 non-null object\n",
      "cpu                   1303 non-null object\n",
      "ram_gb                1303 non-null int64\n",
      "storage               1303 non-null object\n",
      "gpu                   1303 non-null object\n",
      "os                    1303 non-null object\n",
      "os_version            1133 non-null object\n",
      "weight_kg             1303 non-null float64\n",
      "price_euros           1303 non-null float64\n",
      "dtypes: float64(3), int64(1), object(9)\n",
      "memory usage: 132.4+ KB\n"
     ]
    }
   ],
   "source": [
    "laptops.info()"
   ]
  },
  {
   "cell_type": "code",
   "execution_count": 14,
   "metadata": {},
   "outputs": [],
   "source": [
    "laptops[\"gpu_manufacturer\"] = (laptops[\"gpu\"]\n",
    "                                    .str.split(n=1,expand=True)\n",
    "                                    .iloc[:,0]\n",
    "                               )\n",
    "\n",
    "laptops['cpu_manufacturer'] = ( laptops['cpu']\n",
    "                               .str.split(n=1, expand=True).iloc[:,0]\n",
    ")"
   ]
  },
  {
   "cell_type": "code",
   "execution_count": 15,
   "metadata": {},
   "outputs": [
    {
     "name": "stdout",
     "output_type": "stream",
     "text": [
      "<class 'pandas.core.frame.DataFrame'>\n",
      "RangeIndex: 1303 entries, 0 to 1302\n",
      "Data columns (total 15 columns):\n",
      "manufacturer          1303 non-null object\n",
      "model_name            1303 non-null object\n",
      "category              1303 non-null object\n",
      "screen_size_inches    1303 non-null float64\n",
      "screen                1303 non-null object\n",
      "cpu                   1303 non-null object\n",
      "ram_gb                1303 non-null int64\n",
      "storage               1303 non-null object\n",
      "gpu                   1303 non-null object\n",
      "os                    1303 non-null object\n",
      "os_version            1133 non-null object\n",
      "weight_kg             1303 non-null float64\n",
      "price_euros           1303 non-null float64\n",
      "gpu_manufacturer      1303 non-null object\n",
      "cpu_manufacturer      1303 non-null object\n",
      "dtypes: float64(3), int64(1), object(11)\n",
      "memory usage: 152.8+ KB\n"
     ]
    }
   ],
   "source": [
    "laptops.info()"
   ]
  },
  {
   "cell_type": "code",
   "execution_count": 16,
   "metadata": {},
   "outputs": [],
   "source": [
    "screen_res = laptops[\"screen\"].str.rsplit(n=1, expand=True)\n",
    "screen_res.columns = [\"A\", \"B\"]\n",
    "screen_res.loc[screen_res[\"B\"].isnull(), \"B\"] = screen_res[\"A\"]\n",
    "laptops[\"screen_resolution\"] = (screen_res[\"B\"]\n",
    "                                    .str.split(n=1,expand=True)\n",
    "                                    .iloc[:,0]\n",
    "                                    )\n",
    "\n",
    "laptops['cpu_speed_ghz'] = laptops['cpu'].str.replace('GHz', '').str.rsplit(n=1, expand=True).iloc[:,1].astype(float)"
   ]
  },
  {
   "cell_type": "code",
   "execution_count": 17,
   "metadata": {},
   "outputs": [
    {
     "name": "stdout",
     "output_type": "stream",
     "text": [
      "<class 'pandas.core.frame.DataFrame'>\n",
      "RangeIndex: 1303 entries, 0 to 1302\n",
      "Data columns (total 17 columns):\n",
      "manufacturer          1303 non-null object\n",
      "model_name            1303 non-null object\n",
      "category              1303 non-null object\n",
      "screen_size_inches    1303 non-null float64\n",
      "screen                1303 non-null object\n",
      "cpu                   1303 non-null object\n",
      "ram_gb                1303 non-null int64\n",
      "storage               1303 non-null object\n",
      "gpu                   1303 non-null object\n",
      "os                    1303 non-null object\n",
      "os_version            1133 non-null object\n",
      "weight_kg             1303 non-null float64\n",
      "price_euros           1303 non-null float64\n",
      "gpu_manufacturer      1303 non-null object\n",
      "cpu_manufacturer      1303 non-null object\n",
      "screen_resolution     1303 non-null object\n",
      "cpu_speed_ghz         1303 non-null float64\n",
      "dtypes: float64(4), int64(1), object(12)\n",
      "memory usage: 173.1+ KB\n"
     ]
    }
   ],
   "source": [
    "laptops.info()"
   ]
  },
  {
   "cell_type": "code",
   "execution_count": 18,
   "metadata": {},
   "outputs": [
    {
     "data": {
      "text/plain": [
       "array(['macOS', 'No OS', 'Windows', 'Mac OS', 'Linux', 'Android',\n",
       "       'Chrome OS'], dtype=object)"
      ]
     },
     "execution_count": 18,
     "metadata": {},
     "output_type": "execute_result"
    }
   ],
   "source": [
    "laptops['os'].unique()"
   ]
  },
  {
   "cell_type": "code",
   "execution_count": 19,
   "metadata": {},
   "outputs": [],
   "source": [
    "mapping_dict = {\n",
    "    'Android': 'Android',\n",
    "    'Chrome OS': 'Chrome OS',\n",
    "    'Linux': 'Linux',\n",
    "    'Mac OS': 'macOS',\n",
    "    'No OS': 'No OS',\n",
    "    'Windows': 'Windows',\n",
    "    'macOS': 'macOS'\n",
    "}\n",
    "\n",
    "laptops['os'] = laptops['os'].map(mapping_dict)"
   ]
  },
  {
   "cell_type": "code",
   "execution_count": 20,
   "metadata": {},
   "outputs": [
    {
     "data": {
      "text/plain": [
       "array(['macOS', 'No OS', 'Windows', 'Linux', 'Android', 'Chrome OS'],\n",
       "      dtype=object)"
      ]
     },
     "execution_count": 20,
     "metadata": {},
     "output_type": "execute_result"
    }
   ],
   "source": [
    "laptops['os'].unique()"
   ]
  },
  {
   "cell_type": "code",
   "execution_count": null,
   "metadata": {},
   "outputs": [],
   "source": []
  },
  {
   "cell_type": "markdown",
   "metadata": {},
   "source": [
    "4. Dealing with nulls / NaN\n",
    "    * Remove row\n",
    "    * Remove column\n",
    "    * Replace with another value\n",
    "    * Leave as is"
   ]
  },
  {
   "cell_type": "code",
   "execution_count": 21,
   "metadata": {},
   "outputs": [
    {
     "data": {
      "text/plain": [
       "manufacturer            0\n",
       "model_name              0\n",
       "category                0\n",
       "screen_size_inches      0\n",
       "screen                  0\n",
       "cpu                     0\n",
       "ram_gb                  0\n",
       "storage                 0\n",
       "gpu                     0\n",
       "os                      0\n",
       "os_version            170\n",
       "weight_kg               0\n",
       "price_euros             0\n",
       "gpu_manufacturer        0\n",
       "cpu_manufacturer        0\n",
       "screen_resolution       0\n",
       "cpu_speed_ghz           0\n",
       "dtype: int64"
      ]
     },
     "execution_count": 21,
     "metadata": {},
     "output_type": "execute_result"
    }
   ],
   "source": [
    "laptops.isnull().sum()"
   ]
  },
  {
   "cell_type": "code",
   "execution_count": 22,
   "metadata": {},
   "outputs": [
    {
     "data": {
      "text/plain": [
       "No OS        66\n",
       "Linux        62\n",
       "Chrome OS    27\n",
       "macOS        13\n",
       "Android       2\n",
       "Name: os, dtype: int64"
      ]
     },
     "execution_count": 22,
     "metadata": {},
     "output_type": "execute_result"
    }
   ],
   "source": [
    "value_counts_before = laptops.loc[laptops[\"os_version\"].isnull(), \"os\"].value_counts()\n",
    "value_counts_before"
   ]
  },
  {
   "cell_type": "code",
   "execution_count": 23,
   "metadata": {},
   "outputs": [],
   "source": [
    "laptops.loc[laptops[\"os\"] == \"macOS\", \"os_version\"] = \"X\"\n",
    "\n",
    "laptops.loc[laptops['os'] == 'No OS', 'os_version'] = 'Version Unknown'"
   ]
  },
  {
   "cell_type": "code",
   "execution_count": 24,
   "metadata": {},
   "outputs": [
    {
     "data": {
      "text/plain": [
       "Linux        62\n",
       "Chrome OS    27\n",
       "Android       2\n",
       "Name: os, dtype: int64"
      ]
     },
     "execution_count": 24,
     "metadata": {},
     "output_type": "execute_result"
    }
   ],
   "source": [
    "value_counts_after = laptops.loc[laptops['os_version'].isnull(), 'os'].value_counts()\n",
    "value_counts_after"
   ]
  },
  {
   "cell_type": "markdown",
   "metadata": {},
   "source": [
    "5. Challenge:\n",
    "Clean the storage column, creating four new columns:\n",
    "\n",
    "  * storage_1_capacity_gb, with float dtype.\n",
    "  * storage_1_type.\n",
    "  * storage_2_capacity_gb, with float dtype. If there is only one drive, this column should be null.\n",
    "  * storage_2_type. If there is only one drive, this column should be null.\n",
    "  * If needed, don't forget to strip the columns of any extra whitespace.\n",
    "  * Drop the original storage column and any temporary columns you made while completing the exercise."
   ]
  },
  {
   "cell_type": "code",
   "execution_count": 25,
   "metadata": {},
   "outputs": [],
   "source": [
    "nulls = laptops.isnull().sum()\n",
    "\n",
    "laptops['storage'] = (laptops[\"storage\"]\n",
    "                      .str.replace(\"+\", '')\n",
    "                      .str.replace(\"GB\", '')\n",
    "                      .str.replace(\"TB\", '000')\n",
    "                    )\n",
    "laptops['storage']=laptops.storage.str.replace('Flash Storage','Flash_Storage')\n",
    "laptops[['storage_1_capacity_gb', 'storage_1_type', 'storage_2_capacity_gb', 'storage_2_type']] = laptops['storage'].str.split(expand = True)\n",
    "\n",
    "\n",
    "\n",
    "laptops[[ 'storage_1_capacity_gb', 'storage_2_capacity_gb']] =  laptops[[ 'storage_1_capacity_gb', 'storage_2_capacity_gb']].astype(float)\n",
    "\n",
    "laptops['storage_1_type'] = laptops['storage_1_type'].str.replace('Flash_Storage', 'Flash Storage')\n",
    "\n",
    "laptops = laptops.drop('storage', axis = 1)"
   ]
  },
  {
   "cell_type": "raw",
   "metadata": {},
   "source": [
    "6. Reorder columns and save cleaned data to a new file"
   ]
  },
  {
   "cell_type": "code",
   "execution_count": 26,
   "metadata": {},
   "outputs": [],
   "source": [
    "laptops_dtypes = laptops.dtypes\n",
    "cols = ['manufacturer', 'model_name', 'category', 'screen_size_inches',\n",
    "        'screen', 'cpu', 'cpu_manufacturer',  'cpu_speed_ghz', 'ram_gb',\n",
    "        'storage_1_type', 'storage_1_capacity_gb', 'storage_2_type',\n",
    "        'storage_2_capacity_gb', 'gpu', 'gpu_manufacturer', 'os',\n",
    "        'os_version', 'weight_kg', 'price_euros']\n",
    "\n",
    "length = len(laptops.columns)\n",
    "laptops = laptops[cols]\n",
    "\n",
    "laptops.to_csv('laptops_cleaned.csv', index = False)\n",
    "\n",
    "laptops_cleaned = pd.read_csv('laptops_cleaned.csv')\n",
    "\n",
    "laptops_cleaned_dtypes = laptops_cleaned.dtypes"
   ]
  },
  {
   "cell_type": "code",
   "execution_count": 27,
   "metadata": {},
   "outputs": [
    {
     "data": {
      "text/plain": [
       "manufacturer              object\n",
       "model_name                object\n",
       "category                  object\n",
       "screen_size_inches       float64\n",
       "screen                    object\n",
       "cpu                       object\n",
       "cpu_manufacturer          object\n",
       "cpu_speed_ghz            float64\n",
       "ram_gb                     int64\n",
       "storage_1_type            object\n",
       "storage_1_capacity_gb    float64\n",
       "storage_2_type            object\n",
       "storage_2_capacity_gb    float64\n",
       "gpu                       object\n",
       "gpu_manufacturer          object\n",
       "os                        object\n",
       "os_version                object\n",
       "weight_kg                float64\n",
       "price_euros              float64\n",
       "dtype: object"
      ]
     },
     "execution_count": 27,
     "metadata": {},
     "output_type": "execute_result"
    }
   ],
   "source": [
    "laptops_cleaned_dtypes"
   ]
  },
  {
   "cell_type": "markdown",
   "metadata": {},
   "source": [
    "### More questions to answer:\n",
    "1. Are laptops made by Apple more expensive than those by other manufacturers?\n",
    "2. What is the best value laptop with a screen size of 15\" or more?\n",
    "3. Which laptop has the most storage space?"
   ]
  },
  {
   "cell_type": "code",
   "execution_count": 29,
   "metadata": {},
   "outputs": [
    {
     "data": {
      "text/plain": [
       "array(['Apple', 'HP', 'Acer', 'Asus', 'Dell', 'Lenovo', 'Chuwi', 'MSI',\n",
       "       'Microsoft', 'Toshiba', 'Huawei', 'Xiaomi', 'Vero', 'Razer',\n",
       "       'Mediacom', 'Samsung', 'Google', 'Fujitsu', 'LG'], dtype=object)"
      ]
     },
     "execution_count": 29,
     "metadata": {},
     "output_type": "execute_result"
    }
   ],
   "source": [
    "laptops['manufacturer'].unique()"
   ]
  },
  {
   "cell_type": "code",
   "execution_count": 32,
   "metadata": {},
   "outputs": [
    {
     "data": {
      "text/plain": [
       "(1303, 19)"
      ]
     },
     "execution_count": 32,
     "metadata": {},
     "output_type": "execute_result"
    }
   ],
   "source": [
    "laptops.shape"
   ]
  },
  {
   "cell_type": "code",
   "execution_count": 33,
   "metadata": {},
   "outputs": [
    {
     "data": {
      "text/plain": [
       "(21, 19)"
      ]
     },
     "execution_count": 33,
     "metadata": {},
     "output_type": "execute_result"
    }
   ],
   "source": [
    "apple_laptops = laptops[laptops['manufacturer'] == 'Apple']\n",
    "apple_laptops.shape"
   ]
  },
  {
   "cell_type": "code",
   "execution_count": 34,
   "metadata": {},
   "outputs": [
    {
     "data": {
      "text/plain": [
       "(1282, 19)"
      ]
     },
     "execution_count": 34,
     "metadata": {},
     "output_type": "execute_result"
    }
   ],
   "source": [
    "all_the_rest = laptops[laptops['manufacturer'] != 'Apple']\n",
    "all_the_rest.shape"
   ]
  },
  {
   "cell_type": "code",
   "execution_count": 35,
   "metadata": {},
   "outputs": [],
   "source": [
    "avg_cost_apple = apple_laptops['price_euros'].mean()"
   ]
  },
  {
   "cell_type": "code",
   "execution_count": 36,
   "metadata": {},
   "outputs": [],
   "source": [
    "avg_cost_the_rest = all_the_rest['price_euros'].mean()"
   ]
  },
  {
   "cell_type": "code",
   "execution_count": 37,
   "metadata": {},
   "outputs": [],
   "source": [
    "from string import Template"
   ]
  },
  {
   "cell_type": "code",
   "execution_count": 38,
   "metadata": {},
   "outputs": [],
   "source": [
    "solution = Template('Apple laptops cost on average $a euros whereas the rest average $r').substitute(a =avg_cost_apple, r=avg_cost_the_rest)"
   ]
  },
  {
   "cell_type": "code",
   "execution_count": 39,
   "metadata": {},
   "outputs": [
    {
     "data": {
      "text/plain": [
       "'Apple laptops cost on average 1564.1985714285713 euros whereas the rest average 1116.4711232449297'"
      ]
     },
     "execution_count": 39,
     "metadata": {},
     "output_type": "execute_result"
    }
   ],
   "source": [
    "solution"
   ]
  },
  {
   "cell_type": "markdown",
   "metadata": {},
   "source": [
    "1. Apple laptops are more exepensive by about 550 euros"
   ]
  },
  {
   "cell_type": "code",
   "execution_count": 43,
   "metadata": {},
   "outputs": [
    {
     "data": {
      "text/plain": [
       "(839, 19)"
      ]
     },
     "execution_count": 43,
     "metadata": {},
     "output_type": "execute_result"
    }
   ],
   "source": [
    "laptops_over_fifteen_inches = laptops[laptops['screen_size_inches'] >= 15]\n",
    "laptops_over_fifteen_inches.shape"
   ]
  },
  {
   "cell_type": "code",
   "execution_count": 44,
   "metadata": {},
   "outputs": [
    {
     "data": {
      "text/html": [
       "<div>\n",
       "<style scoped>\n",
       "    .dataframe tbody tr th:only-of-type {\n",
       "        vertical-align: middle;\n",
       "    }\n",
       "\n",
       "    .dataframe tbody tr th {\n",
       "        vertical-align: top;\n",
       "    }\n",
       "\n",
       "    .dataframe thead th {\n",
       "        text-align: right;\n",
       "    }\n",
       "</style>\n",
       "<table border=\"1\" class=\"dataframe\">\n",
       "  <thead>\n",
       "    <tr style=\"text-align: right;\">\n",
       "      <th></th>\n",
       "      <th>manufacturer</th>\n",
       "      <th>model_name</th>\n",
       "      <th>category</th>\n",
       "      <th>screen_size_inches</th>\n",
       "      <th>screen</th>\n",
       "      <th>cpu</th>\n",
       "      <th>cpu_manufacturer</th>\n",
       "      <th>cpu_speed_ghz</th>\n",
       "      <th>ram_gb</th>\n",
       "      <th>storage_1_type</th>\n",
       "      <th>storage_1_capacity_gb</th>\n",
       "      <th>storage_2_type</th>\n",
       "      <th>storage_2_capacity_gb</th>\n",
       "      <th>gpu</th>\n",
       "      <th>gpu_manufacturer</th>\n",
       "      <th>os</th>\n",
       "      <th>os_version</th>\n",
       "      <th>weight_kg</th>\n",
       "      <th>price_euros</th>\n",
       "    </tr>\n",
       "  </thead>\n",
       "  <tbody>\n",
       "    <tr>\n",
       "      <th>2</th>\n",
       "      <td>HP</td>\n",
       "      <td>250 G6</td>\n",
       "      <td>Notebook</td>\n",
       "      <td>15.6</td>\n",
       "      <td>Full HD 1920x1080</td>\n",
       "      <td>Intel Core i5 7200U 2.5GHz</td>\n",
       "      <td>Intel</td>\n",
       "      <td>2.5</td>\n",
       "      <td>8</td>\n",
       "      <td>SSD</td>\n",
       "      <td>256.0</td>\n",
       "      <td>None</td>\n",
       "      <td>NaN</td>\n",
       "      <td>Intel HD Graphics 620</td>\n",
       "      <td>Intel</td>\n",
       "      <td>No OS</td>\n",
       "      <td>Version Unknown</td>\n",
       "      <td>1.86</td>\n",
       "      <td>575.00</td>\n",
       "    </tr>\n",
       "    <tr>\n",
       "      <th>3</th>\n",
       "      <td>Apple</td>\n",
       "      <td>MacBook Pro</td>\n",
       "      <td>Ultrabook</td>\n",
       "      <td>15.4</td>\n",
       "      <td>IPS Panel Retina Display 2880x1800</td>\n",
       "      <td>Intel Core i7 2.7GHz</td>\n",
       "      <td>Intel</td>\n",
       "      <td>2.7</td>\n",
       "      <td>16</td>\n",
       "      <td>SSD</td>\n",
       "      <td>512.0</td>\n",
       "      <td>None</td>\n",
       "      <td>NaN</td>\n",
       "      <td>AMD Radeon Pro 455</td>\n",
       "      <td>AMD</td>\n",
       "      <td>macOS</td>\n",
       "      <td>X</td>\n",
       "      <td>1.83</td>\n",
       "      <td>2537.45</td>\n",
       "    </tr>\n",
       "    <tr>\n",
       "      <th>5</th>\n",
       "      <td>Acer</td>\n",
       "      <td>Aspire 3</td>\n",
       "      <td>Notebook</td>\n",
       "      <td>15.6</td>\n",
       "      <td>1366x768</td>\n",
       "      <td>AMD A9-Series 9420 3GHz</td>\n",
       "      <td>AMD</td>\n",
       "      <td>3.0</td>\n",
       "      <td>4</td>\n",
       "      <td>HDD</td>\n",
       "      <td>500.0</td>\n",
       "      <td>None</td>\n",
       "      <td>NaN</td>\n",
       "      <td>AMD Radeon R5</td>\n",
       "      <td>AMD</td>\n",
       "      <td>Windows</td>\n",
       "      <td>10</td>\n",
       "      <td>2.10</td>\n",
       "      <td>400.00</td>\n",
       "    </tr>\n",
       "    <tr>\n",
       "      <th>6</th>\n",
       "      <td>Apple</td>\n",
       "      <td>MacBook Pro</td>\n",
       "      <td>Ultrabook</td>\n",
       "      <td>15.4</td>\n",
       "      <td>IPS Panel Retina Display 2880x1800</td>\n",
       "      <td>Intel Core i7 2.2GHz</td>\n",
       "      <td>Intel</td>\n",
       "      <td>2.2</td>\n",
       "      <td>16</td>\n",
       "      <td>Flash Storage</td>\n",
       "      <td>256.0</td>\n",
       "      <td>None</td>\n",
       "      <td>NaN</td>\n",
       "      <td>Intel Iris Pro Graphics</td>\n",
       "      <td>Intel</td>\n",
       "      <td>macOS</td>\n",
       "      <td>X</td>\n",
       "      <td>2.04</td>\n",
       "      <td>2139.97</td>\n",
       "    </tr>\n",
       "    <tr>\n",
       "      <th>10</th>\n",
       "      <td>HP</td>\n",
       "      <td>250 G6</td>\n",
       "      <td>Notebook</td>\n",
       "      <td>15.6</td>\n",
       "      <td>1366x768</td>\n",
       "      <td>Intel Core i5 7200U 2.5GHz</td>\n",
       "      <td>Intel</td>\n",
       "      <td>2.5</td>\n",
       "      <td>4</td>\n",
       "      <td>HDD</td>\n",
       "      <td>500.0</td>\n",
       "      <td>None</td>\n",
       "      <td>NaN</td>\n",
       "      <td>Intel HD Graphics 620</td>\n",
       "      <td>Intel</td>\n",
       "      <td>No OS</td>\n",
       "      <td>Version Unknown</td>\n",
       "      <td>1.86</td>\n",
       "      <td>393.90</td>\n",
       "    </tr>\n",
       "    <tr>\n",
       "      <th>11</th>\n",
       "      <td>HP</td>\n",
       "      <td>250 G6</td>\n",
       "      <td>Notebook</td>\n",
       "      <td>15.6</td>\n",
       "      <td>Full HD 1920x1080</td>\n",
       "      <td>Intel Core i3 6006U 2GHz</td>\n",
       "      <td>Intel</td>\n",
       "      <td>2.0</td>\n",
       "      <td>4</td>\n",
       "      <td>HDD</td>\n",
       "      <td>500.0</td>\n",
       "      <td>None</td>\n",
       "      <td>NaN</td>\n",
       "      <td>Intel HD Graphics 520</td>\n",
       "      <td>Intel</td>\n",
       "      <td>No OS</td>\n",
       "      <td>Version Unknown</td>\n",
       "      <td>1.86</td>\n",
       "      <td>344.99</td>\n",
       "    </tr>\n",
       "    <tr>\n",
       "      <th>12</th>\n",
       "      <td>Apple</td>\n",
       "      <td>MacBook Pro</td>\n",
       "      <td>Ultrabook</td>\n",
       "      <td>15.4</td>\n",
       "      <td>IPS Panel Retina Display 2880x1800</td>\n",
       "      <td>Intel Core i7 2.8GHz</td>\n",
       "      <td>Intel</td>\n",
       "      <td>2.8</td>\n",
       "      <td>16</td>\n",
       "      <td>SSD</td>\n",
       "      <td>256.0</td>\n",
       "      <td>None</td>\n",
       "      <td>NaN</td>\n",
       "      <td>AMD Radeon Pro 555</td>\n",
       "      <td>AMD</td>\n",
       "      <td>macOS</td>\n",
       "      <td>X</td>\n",
       "      <td>1.83</td>\n",
       "      <td>2439.97</td>\n",
       "    </tr>\n",
       "    <tr>\n",
       "      <th>13</th>\n",
       "      <td>Dell</td>\n",
       "      <td>Inspiron 3567</td>\n",
       "      <td>Notebook</td>\n",
       "      <td>15.6</td>\n",
       "      <td>Full HD 1920x1080</td>\n",
       "      <td>Intel Core i3 6006U 2GHz</td>\n",
       "      <td>Intel</td>\n",
       "      <td>2.0</td>\n",
       "      <td>4</td>\n",
       "      <td>SSD</td>\n",
       "      <td>256.0</td>\n",
       "      <td>None</td>\n",
       "      <td>NaN</td>\n",
       "      <td>AMD Radeon R5 M430</td>\n",
       "      <td>AMD</td>\n",
       "      <td>Windows</td>\n",
       "      <td>10</td>\n",
       "      <td>2.20</td>\n",
       "      <td>498.90</td>\n",
       "    </tr>\n",
       "    <tr>\n",
       "      <th>16</th>\n",
       "      <td>Dell</td>\n",
       "      <td>Inspiron 3567</td>\n",
       "      <td>Notebook</td>\n",
       "      <td>15.6</td>\n",
       "      <td>Full HD 1920x1080</td>\n",
       "      <td>Intel Core i7 7500U 2.7GHz</td>\n",
       "      <td>Intel</td>\n",
       "      <td>2.7</td>\n",
       "      <td>8</td>\n",
       "      <td>SSD</td>\n",
       "      <td>256.0</td>\n",
       "      <td>None</td>\n",
       "      <td>NaN</td>\n",
       "      <td>AMD Radeon R5 M430</td>\n",
       "      <td>AMD</td>\n",
       "      <td>Windows</td>\n",
       "      <td>10</td>\n",
       "      <td>2.20</td>\n",
       "      <td>745.00</td>\n",
       "    </tr>\n",
       "    <tr>\n",
       "      <th>17</th>\n",
       "      <td>Apple</td>\n",
       "      <td>MacBook Pro</td>\n",
       "      <td>Ultrabook</td>\n",
       "      <td>15.4</td>\n",
       "      <td>IPS Panel Retina Display 2880x1800</td>\n",
       "      <td>Intel Core i7 2.9GHz</td>\n",
       "      <td>Intel</td>\n",
       "      <td>2.9</td>\n",
       "      <td>16</td>\n",
       "      <td>SSD</td>\n",
       "      <td>512.0</td>\n",
       "      <td>None</td>\n",
       "      <td>NaN</td>\n",
       "      <td>AMD Radeon Pro 560</td>\n",
       "      <td>AMD</td>\n",
       "      <td>macOS</td>\n",
       "      <td>X</td>\n",
       "      <td>1.83</td>\n",
       "      <td>2858.00</td>\n",
       "    </tr>\n",
       "  </tbody>\n",
       "</table>\n",
       "</div>"
      ],
      "text/plain": [
       "   manufacturer     model_name   category  screen_size_inches  \\\n",
       "2            HP         250 G6   Notebook                15.6   \n",
       "3         Apple    MacBook Pro  Ultrabook                15.4   \n",
       "5          Acer       Aspire 3   Notebook                15.6   \n",
       "6         Apple    MacBook Pro  Ultrabook                15.4   \n",
       "10           HP         250 G6   Notebook                15.6   \n",
       "11           HP         250 G6   Notebook                15.6   \n",
       "12        Apple    MacBook Pro  Ultrabook                15.4   \n",
       "13         Dell  Inspiron 3567   Notebook                15.6   \n",
       "16         Dell  Inspiron 3567   Notebook                15.6   \n",
       "17        Apple    MacBook Pro  Ultrabook                15.4   \n",
       "\n",
       "                                screen                         cpu  \\\n",
       "2                    Full HD 1920x1080  Intel Core i5 7200U 2.5GHz   \n",
       "3   IPS Panel Retina Display 2880x1800        Intel Core i7 2.7GHz   \n",
       "5                             1366x768     AMD A9-Series 9420 3GHz   \n",
       "6   IPS Panel Retina Display 2880x1800        Intel Core i7 2.2GHz   \n",
       "10                            1366x768  Intel Core i5 7200U 2.5GHz   \n",
       "11                   Full HD 1920x1080    Intel Core i3 6006U 2GHz   \n",
       "12  IPS Panel Retina Display 2880x1800        Intel Core i7 2.8GHz   \n",
       "13                   Full HD 1920x1080    Intel Core i3 6006U 2GHz   \n",
       "16                   Full HD 1920x1080  Intel Core i7 7500U 2.7GHz   \n",
       "17  IPS Panel Retina Display 2880x1800        Intel Core i7 2.9GHz   \n",
       "\n",
       "   cpu_manufacturer  cpu_speed_ghz  ram_gb storage_1_type  \\\n",
       "2             Intel            2.5       8            SSD   \n",
       "3             Intel            2.7      16            SSD   \n",
       "5               AMD            3.0       4            HDD   \n",
       "6             Intel            2.2      16  Flash Storage   \n",
       "10            Intel            2.5       4            HDD   \n",
       "11            Intel            2.0       4            HDD   \n",
       "12            Intel            2.8      16            SSD   \n",
       "13            Intel            2.0       4            SSD   \n",
       "16            Intel            2.7       8            SSD   \n",
       "17            Intel            2.9      16            SSD   \n",
       "\n",
       "    storage_1_capacity_gb storage_2_type  storage_2_capacity_gb  \\\n",
       "2                   256.0           None                    NaN   \n",
       "3                   512.0           None                    NaN   \n",
       "5                   500.0           None                    NaN   \n",
       "6                   256.0           None                    NaN   \n",
       "10                  500.0           None                    NaN   \n",
       "11                  500.0           None                    NaN   \n",
       "12                  256.0           None                    NaN   \n",
       "13                  256.0           None                    NaN   \n",
       "16                  256.0           None                    NaN   \n",
       "17                  512.0           None                    NaN   \n",
       "\n",
       "                        gpu gpu_manufacturer       os       os_version  \\\n",
       "2     Intel HD Graphics 620            Intel    No OS  Version Unknown   \n",
       "3        AMD Radeon Pro 455              AMD    macOS                X   \n",
       "5             AMD Radeon R5              AMD  Windows               10   \n",
       "6   Intel Iris Pro Graphics            Intel    macOS                X   \n",
       "10    Intel HD Graphics 620            Intel    No OS  Version Unknown   \n",
       "11    Intel HD Graphics 520            Intel    No OS  Version Unknown   \n",
       "12       AMD Radeon Pro 555              AMD    macOS                X   \n",
       "13       AMD Radeon R5 M430              AMD  Windows               10   \n",
       "16       AMD Radeon R5 M430              AMD  Windows               10   \n",
       "17       AMD Radeon Pro 560              AMD    macOS                X   \n",
       "\n",
       "    weight_kg  price_euros  \n",
       "2        1.86       575.00  \n",
       "3        1.83      2537.45  \n",
       "5        2.10       400.00  \n",
       "6        2.04      2139.97  \n",
       "10       1.86       393.90  \n",
       "11       1.86       344.99  \n",
       "12       1.83      2439.97  \n",
       "13       2.20       498.90  \n",
       "16       2.20       745.00  \n",
       "17       1.83      2858.00  "
      ]
     },
     "execution_count": 44,
     "metadata": {},
     "output_type": "execute_result"
    }
   ],
   "source": [
    "laptops_over_fifteen_inches.head(10)"
   ]
  },
  {
   "cell_type": "code",
   "execution_count": 46,
   "metadata": {},
   "outputs": [],
   "source": [
    "sorted_laptops_over_fifteen_inches = laptops_over_fifteen_inches.sort_values(by='price_euros', inplace=False,ascending=True)"
   ]
  },
  {
   "cell_type": "code",
   "execution_count": 47,
   "metadata": {},
   "outputs": [
    {
     "data": {
      "text/html": [
       "<div>\n",
       "<style scoped>\n",
       "    .dataframe tbody tr th:only-of-type {\n",
       "        vertical-align: middle;\n",
       "    }\n",
       "\n",
       "    .dataframe tbody tr th {\n",
       "        vertical-align: top;\n",
       "    }\n",
       "\n",
       "    .dataframe thead th {\n",
       "        text-align: right;\n",
       "    }\n",
       "</style>\n",
       "<table border=\"1\" class=\"dataframe\">\n",
       "  <thead>\n",
       "    <tr style=\"text-align: right;\">\n",
       "      <th></th>\n",
       "      <th>manufacturer</th>\n",
       "      <th>model_name</th>\n",
       "      <th>category</th>\n",
       "      <th>screen_size_inches</th>\n",
       "      <th>screen</th>\n",
       "      <th>cpu</th>\n",
       "      <th>cpu_manufacturer</th>\n",
       "      <th>cpu_speed_ghz</th>\n",
       "      <th>ram_gb</th>\n",
       "      <th>storage_1_type</th>\n",
       "      <th>storage_1_capacity_gb</th>\n",
       "      <th>storage_2_type</th>\n",
       "      <th>storage_2_capacity_gb</th>\n",
       "      <th>gpu</th>\n",
       "      <th>gpu_manufacturer</th>\n",
       "      <th>os</th>\n",
       "      <th>os_version</th>\n",
       "      <th>weight_kg</th>\n",
       "      <th>price_euros</th>\n",
       "    </tr>\n",
       "  </thead>\n",
       "  <tbody>\n",
       "    <tr>\n",
       "      <th>290</th>\n",
       "      <td>Acer</td>\n",
       "      <td>Chromebook C910-C2ST</td>\n",
       "      <td>Notebook</td>\n",
       "      <td>15.6</td>\n",
       "      <td>1366x768</td>\n",
       "      <td>Intel Celeron Dual Core 3205U 1.5GHz</td>\n",
       "      <td>Intel</td>\n",
       "      <td>1.50</td>\n",
       "      <td>2</td>\n",
       "      <td>SSD</td>\n",
       "      <td>16.0</td>\n",
       "      <td>None</td>\n",
       "      <td>NaN</td>\n",
       "      <td>Intel HD Graphics</td>\n",
       "      <td>Intel</td>\n",
       "      <td>Chrome OS</td>\n",
       "      <td>NaN</td>\n",
       "      <td>2.19</td>\n",
       "      <td>199.00</td>\n",
       "    </tr>\n",
       "    <tr>\n",
       "      <th>1102</th>\n",
       "      <td>Acer</td>\n",
       "      <td>Chromebook 15</td>\n",
       "      <td>Notebook</td>\n",
       "      <td>15.6</td>\n",
       "      <td>1366x768</td>\n",
       "      <td>Intel Celeron Dual Core 3205U 1.5GHz</td>\n",
       "      <td>Intel</td>\n",
       "      <td>1.50</td>\n",
       "      <td>4</td>\n",
       "      <td>SSD</td>\n",
       "      <td>16.0</td>\n",
       "      <td>None</td>\n",
       "      <td>NaN</td>\n",
       "      <td>Intel HD Graphics</td>\n",
       "      <td>Intel</td>\n",
       "      <td>Chrome OS</td>\n",
       "      <td>NaN</td>\n",
       "      <td>2.20</td>\n",
       "      <td>209.00</td>\n",
       "    </tr>\n",
       "    <tr>\n",
       "      <th>555</th>\n",
       "      <td>Asus</td>\n",
       "      <td>A541NA-GO342 (N3350/4GB/500GB/Linux)</td>\n",
       "      <td>Notebook</td>\n",
       "      <td>15.6</td>\n",
       "      <td>1366x768</td>\n",
       "      <td>Intel Celeron Dual Core N3350 1.1GHz</td>\n",
       "      <td>Intel</td>\n",
       "      <td>1.10</td>\n",
       "      <td>4</td>\n",
       "      <td>HDD</td>\n",
       "      <td>500.0</td>\n",
       "      <td>None</td>\n",
       "      <td>NaN</td>\n",
       "      <td>Intel HD Graphics 500</td>\n",
       "      <td>Intel</td>\n",
       "      <td>Linux</td>\n",
       "      <td>NaN</td>\n",
       "      <td>2.00</td>\n",
       "      <td>224.00</td>\n",
       "    </tr>\n",
       "    <tr>\n",
       "      <th>30</th>\n",
       "      <td>Chuwi</td>\n",
       "      <td>LapBook 15.6\"</td>\n",
       "      <td>Notebook</td>\n",
       "      <td>15.6</td>\n",
       "      <td>Full HD 1920x1080</td>\n",
       "      <td>Intel Atom x5-Z8300 1.44GHz</td>\n",
       "      <td>Intel</td>\n",
       "      <td>1.44</td>\n",
       "      <td>4</td>\n",
       "      <td>Flash Storage</td>\n",
       "      <td>64.0</td>\n",
       "      <td>None</td>\n",
       "      <td>NaN</td>\n",
       "      <td>Intel HD Graphics</td>\n",
       "      <td>Intel</td>\n",
       "      <td>Windows</td>\n",
       "      <td>10</td>\n",
       "      <td>1.89</td>\n",
       "      <td>244.99</td>\n",
       "    </tr>\n",
       "    <tr>\n",
       "      <th>483</th>\n",
       "      <td>Chuwi</td>\n",
       "      <td>Lapbook 15,6</td>\n",
       "      <td>Notebook</td>\n",
       "      <td>15.6</td>\n",
       "      <td>Full HD 1920x1080</td>\n",
       "      <td>Intel Atom x5-Z8350 1.44GHz</td>\n",
       "      <td>Intel</td>\n",
       "      <td>1.44</td>\n",
       "      <td>4</td>\n",
       "      <td>Flash Storage</td>\n",
       "      <td>64.0</td>\n",
       "      <td>None</td>\n",
       "      <td>NaN</td>\n",
       "      <td>Intel HD Graphics</td>\n",
       "      <td>Intel</td>\n",
       "      <td>Windows</td>\n",
       "      <td>10</td>\n",
       "      <td>1.89</td>\n",
       "      <td>248.90</td>\n",
       "    </tr>\n",
       "    <tr>\n",
       "      <th>136</th>\n",
       "      <td>Lenovo</td>\n",
       "      <td>V110-15IAP (N3350/4GB/1TB/No</td>\n",
       "      <td>Notebook</td>\n",
       "      <td>15.6</td>\n",
       "      <td>1366x768</td>\n",
       "      <td>Intel Celeron Dual Core N3350 1.1GHz</td>\n",
       "      <td>Intel</td>\n",
       "      <td>1.10</td>\n",
       "      <td>4</td>\n",
       "      <td>HDD</td>\n",
       "      <td>1000.0</td>\n",
       "      <td>None</td>\n",
       "      <td>NaN</td>\n",
       "      <td>Intel HD Graphics 500</td>\n",
       "      <td>Intel</td>\n",
       "      <td>No OS</td>\n",
       "      <td>Version Unknown</td>\n",
       "      <td>1.90</td>\n",
       "      <td>252.36</td>\n",
       "    </tr>\n",
       "    <tr>\n",
       "      <th>22</th>\n",
       "      <td>HP</td>\n",
       "      <td>255 G6</td>\n",
       "      <td>Notebook</td>\n",
       "      <td>15.6</td>\n",
       "      <td>1366x768</td>\n",
       "      <td>AMD E-Series E2-9000e 1.5GHz</td>\n",
       "      <td>AMD</td>\n",
       "      <td>1.50</td>\n",
       "      <td>4</td>\n",
       "      <td>HDD</td>\n",
       "      <td>500.0</td>\n",
       "      <td>None</td>\n",
       "      <td>NaN</td>\n",
       "      <td>AMD Radeon R2</td>\n",
       "      <td>AMD</td>\n",
       "      <td>No OS</td>\n",
       "      <td>Version Unknown</td>\n",
       "      <td>1.86</td>\n",
       "      <td>258.00</td>\n",
       "    </tr>\n",
       "    <tr>\n",
       "      <th>125</th>\n",
       "      <td>HP</td>\n",
       "      <td>250 G6</td>\n",
       "      <td>Notebook</td>\n",
       "      <td>15.6</td>\n",
       "      <td>1366x768</td>\n",
       "      <td>Intel Celeron Dual Core N3060 1.6GHz</td>\n",
       "      <td>Intel</td>\n",
       "      <td>1.60</td>\n",
       "      <td>4</td>\n",
       "      <td>HDD</td>\n",
       "      <td>500.0</td>\n",
       "      <td>None</td>\n",
       "      <td>NaN</td>\n",
       "      <td>Intel HD Graphics 400</td>\n",
       "      <td>Intel</td>\n",
       "      <td>No OS</td>\n",
       "      <td>Version Unknown</td>\n",
       "      <td>1.86</td>\n",
       "      <td>259.00</td>\n",
       "    </tr>\n",
       "    <tr>\n",
       "      <th>992</th>\n",
       "      <td>Lenovo</td>\n",
       "      <td>V110-15IAP (N3350/4GB/128GB/No</td>\n",
       "      <td>Notebook</td>\n",
       "      <td>15.6</td>\n",
       "      <td>1366x768</td>\n",
       "      <td>Intel Celeron Dual Core N3350 1.1GHz</td>\n",
       "      <td>Intel</td>\n",
       "      <td>1.10</td>\n",
       "      <td>4</td>\n",
       "      <td>SSD</td>\n",
       "      <td>128.0</td>\n",
       "      <td>None</td>\n",
       "      <td>NaN</td>\n",
       "      <td>Intel HD Graphics 500</td>\n",
       "      <td>Intel</td>\n",
       "      <td>No OS</td>\n",
       "      <td>Version Unknown</td>\n",
       "      <td>1.90</td>\n",
       "      <td>270.62</td>\n",
       "    </tr>\n",
       "    <tr>\n",
       "      <th>1198</th>\n",
       "      <td>Acer</td>\n",
       "      <td>Aspire 3</td>\n",
       "      <td>Notebook</td>\n",
       "      <td>15.6</td>\n",
       "      <td>1366x768</td>\n",
       "      <td>Intel Celeron Dual Core N3350 2GHz</td>\n",
       "      <td>Intel</td>\n",
       "      <td>2.00</td>\n",
       "      <td>4</td>\n",
       "      <td>HDD</td>\n",
       "      <td>1000.0</td>\n",
       "      <td>None</td>\n",
       "      <td>NaN</td>\n",
       "      <td>Intel HD Graphics 500</td>\n",
       "      <td>Intel</td>\n",
       "      <td>Linux</td>\n",
       "      <td>NaN</td>\n",
       "      <td>2.10</td>\n",
       "      <td>272.00</td>\n",
       "    </tr>\n",
       "  </tbody>\n",
       "</table>\n",
       "</div>"
      ],
      "text/plain": [
       "     manufacturer                            model_name  category  \\\n",
       "290          Acer                  Chromebook C910-C2ST  Notebook   \n",
       "1102         Acer                         Chromebook 15  Notebook   \n",
       "555          Asus  A541NA-GO342 (N3350/4GB/500GB/Linux)  Notebook   \n",
       "30          Chuwi                         LapBook 15.6\"  Notebook   \n",
       "483         Chuwi                          Lapbook 15,6  Notebook   \n",
       "136        Lenovo          V110-15IAP (N3350/4GB/1TB/No  Notebook   \n",
       "22             HP                                255 G6  Notebook   \n",
       "125            HP                                250 G6  Notebook   \n",
       "992        Lenovo        V110-15IAP (N3350/4GB/128GB/No  Notebook   \n",
       "1198         Acer                              Aspire 3  Notebook   \n",
       "\n",
       "      screen_size_inches             screen  \\\n",
       "290                 15.6           1366x768   \n",
       "1102                15.6           1366x768   \n",
       "555                 15.6           1366x768   \n",
       "30                  15.6  Full HD 1920x1080   \n",
       "483                 15.6  Full HD 1920x1080   \n",
       "136                 15.6           1366x768   \n",
       "22                  15.6           1366x768   \n",
       "125                 15.6           1366x768   \n",
       "992                 15.6           1366x768   \n",
       "1198                15.6           1366x768   \n",
       "\n",
       "                                       cpu cpu_manufacturer  cpu_speed_ghz  \\\n",
       "290   Intel Celeron Dual Core 3205U 1.5GHz            Intel           1.50   \n",
       "1102  Intel Celeron Dual Core 3205U 1.5GHz            Intel           1.50   \n",
       "555   Intel Celeron Dual Core N3350 1.1GHz            Intel           1.10   \n",
       "30             Intel Atom x5-Z8300 1.44GHz            Intel           1.44   \n",
       "483            Intel Atom x5-Z8350 1.44GHz            Intel           1.44   \n",
       "136   Intel Celeron Dual Core N3350 1.1GHz            Intel           1.10   \n",
       "22            AMD E-Series E2-9000e 1.5GHz              AMD           1.50   \n",
       "125   Intel Celeron Dual Core N3060 1.6GHz            Intel           1.60   \n",
       "992   Intel Celeron Dual Core N3350 1.1GHz            Intel           1.10   \n",
       "1198    Intel Celeron Dual Core N3350 2GHz            Intel           2.00   \n",
       "\n",
       "      ram_gb storage_1_type  storage_1_capacity_gb storage_2_type  \\\n",
       "290        2            SSD                   16.0           None   \n",
       "1102       4            SSD                   16.0           None   \n",
       "555        4            HDD                  500.0           None   \n",
       "30         4  Flash Storage                   64.0           None   \n",
       "483        4  Flash Storage                   64.0           None   \n",
       "136        4            HDD                 1000.0           None   \n",
       "22         4            HDD                  500.0           None   \n",
       "125        4            HDD                  500.0           None   \n",
       "992        4            SSD                  128.0           None   \n",
       "1198       4            HDD                 1000.0           None   \n",
       "\n",
       "      storage_2_capacity_gb                    gpu gpu_manufacturer  \\\n",
       "290                     NaN      Intel HD Graphics            Intel   \n",
       "1102                    NaN      Intel HD Graphics            Intel   \n",
       "555                     NaN  Intel HD Graphics 500            Intel   \n",
       "30                      NaN      Intel HD Graphics            Intel   \n",
       "483                     NaN      Intel HD Graphics            Intel   \n",
       "136                     NaN  Intel HD Graphics 500            Intel   \n",
       "22                      NaN          AMD Radeon R2              AMD   \n",
       "125                     NaN  Intel HD Graphics 400            Intel   \n",
       "992                     NaN  Intel HD Graphics 500            Intel   \n",
       "1198                    NaN  Intel HD Graphics 500            Intel   \n",
       "\n",
       "             os       os_version  weight_kg  price_euros  \n",
       "290   Chrome OS              NaN       2.19       199.00  \n",
       "1102  Chrome OS              NaN       2.20       209.00  \n",
       "555       Linux              NaN       2.00       224.00  \n",
       "30      Windows               10       1.89       244.99  \n",
       "483     Windows               10       1.89       248.90  \n",
       "136       No OS  Version Unknown       1.90       252.36  \n",
       "22        No OS  Version Unknown       1.86       258.00  \n",
       "125       No OS  Version Unknown       1.86       259.00  \n",
       "992       No OS  Version Unknown       1.90       270.62  \n",
       "1198      Linux              NaN       2.10       272.00  "
      ]
     },
     "execution_count": 47,
     "metadata": {},
     "output_type": "execute_result"
    }
   ],
   "source": [
    "sorted_laptops_over_fifteen_inches.head(10)"
   ]
  },
  {
   "cell_type": "code",
   "execution_count": 52,
   "metadata": {},
   "outputs": [
    {
     "data": {
      "text/plain": [
       "'Cheapest laptop for over 15\" screen is Acer Chromebook C910-C2ST'"
      ]
     },
     "execution_count": 52,
     "metadata": {},
     "output_type": "execute_result"
    }
   ],
   "source": [
    "cheapest = sorted_laptops_over_fifteen_inches.iloc[0]\n",
    "solution_2 = Template('Cheapest laptop for over 15\" screen is $m $n').substitute(m = cheapest['manufacturer'], n=cheapest['model_name'])\n",
    "solution_2"
   ]
  },
  {
   "cell_type": "code",
   "execution_count": 75,
   "metadata": {},
   "outputs": [],
   "source": [
    "laptops['total_storage'] = laptops.loc[:, ['storage_1_capacity_gb','storage_2_capacity_gb']].sum(axis=1, skipna=True)\n",
    "\n",
    "sorted_by_storage = laptops.sort_values(by='total_storage', ascending=False)\n"
   ]
  },
  {
   "cell_type": "code",
   "execution_count": 77,
   "metadata": {},
   "outputs": [
    {
     "data": {
      "text/plain": [
       "'Laptop with most storage: MSI GS73VR Stealth with 2512.0 GB storage'"
      ]
     },
     "execution_count": 77,
     "metadata": {},
     "output_type": "execute_result"
    }
   ],
   "source": [
    "most_storage = sorted_by_storage.iloc[0]\n",
    "solution_3 = Template('Laptop with most storage: $m $n with $s GB storage').substitute(m = most_storage['manufacturer'], n=most_storage['model_name'], s = most_storage['total_storage'])\n",
    "solution_3"
   ]
  },
  {
   "cell_type": "code",
   "execution_count": null,
   "metadata": {},
   "outputs": [],
   "source": []
  }
 ],
 "metadata": {
  "kernelspec": {
   "display_name": "Python 3",
   "language": "python",
   "name": "python3"
  },
  "language_info": {
   "codemirror_mode": {
    "name": "ipython",
    "version": 3
   },
   "file_extension": ".py",
   "mimetype": "text/x-python",
   "name": "python",
   "nbconvert_exporter": "python",
   "pygments_lexer": "ipython3",
   "version": "3.6.5"
  }
 },
 "nbformat": 4,
 "nbformat_minor": 2
}
