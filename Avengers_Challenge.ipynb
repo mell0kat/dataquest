{
 "cells": [
  {
   "cell_type": "markdown",
   "metadata": {},
   "source": [
    "The Avengers are a well-known and widely-loved team of superheroes in the Marvel universe that were originally introduced in the 1960's comic book series. The recent Disney movies re-popularized them, as part of the new Marvel Cinematic Universe.\n",
    "\n",
    "Because the writers killed off and revived many of the superheroes, the team at FiveThirtyEight was curious to explore data from the Marvel Wikia site further. To learn how they collected their data, which is available in their GitHub repository, read the write-up they published on the FiveThirtyEight website.\n",
    "\n",
    "FiveThirtyEight write up: https://fivethirtyeight.com/features/avengers-death-comics-age-of-ultron/\n",
    "GitHub link: https://github.com/fivethirtyeight/data/tree/master/avengers"
   ]
  },
  {
   "cell_type": "code",
   "execution_count": 1,
   "metadata": {},
   "outputs": [
    {
     "name": "stdout",
     "output_type": "stream",
     "text": [
      "<class 'pandas.core.frame.DataFrame'>\n",
      "RangeIndex: 173 entries, 0 to 172\n",
      "Data columns (total 21 columns):\n",
      "URL                            173 non-null object\n",
      "Name/Alias                     163 non-null object\n",
      "Appearances                    173 non-null int64\n",
      "Current?                       173 non-null object\n",
      "Gender                         173 non-null object\n",
      "Probationary Introl            15 non-null object\n",
      "Full/Reserve Avengers Intro    159 non-null object\n",
      "Year                           173 non-null int64\n",
      "Years since joining            173 non-null int64\n",
      "Honorary                       173 non-null object\n",
      "Death1                         173 non-null object\n",
      "Return1                        69 non-null object\n",
      "Death2                         17 non-null object\n",
      "Return2                        16 non-null object\n",
      "Death3                         2 non-null object\n",
      "Return3                        2 non-null object\n",
      "Death4                         1 non-null object\n",
      "Return4                        1 non-null object\n",
      "Death5                         1 non-null object\n",
      "Return5                        1 non-null object\n",
      "Notes                          75 non-null object\n",
      "dtypes: int64(3), object(18)\n",
      "memory usage: 28.5+ KB\n"
     ]
    }
   ],
   "source": [
    "import pandas as pd\n",
    "\n",
    "avengers = pd.read_csv(\"./data/avengers.csv\")\n",
    "avengers.head(5)\n",
    "              \n",
    "avengers.info()"
   ]
  },
  {
   "cell_type": "markdown",
   "metadata": {},
   "source": [
    "### Remove unreliable data"
   ]
  },
  {
   "cell_type": "code",
   "execution_count": 3,
   "metadata": {},
   "outputs": [
    {
     "data": {
      "text/plain": [
       "<matplotlib.axes._subplots.AxesSubplot at 0x11dbe1630>"
      ]
     },
     "execution_count": 3,
     "metadata": {},
     "output_type": "execute_result"
    },
    {
     "data": {
      "image/png": "[encoded data removed]",
      "text/plain": [
       "<Figure size 432x288 with 1 Axes>"
      ]
     },
     "metadata": {
      "needs_background": "light"
     },
     "output_type": "display_data"
    }
   ],
   "source": [
    "import matplotlib.pyplot as plt\n",
    "%matplotlib inline  \n",
    "true_avengers = pd.DataFrame()\n",
    "\n",
    "# Year represents year that the character was introduced into the Marvel Universe\n",
    "avengers['Year'].hist()\n",
    "\n",
    "\n",
    "# Avengers comics were not introduced until 1960, so we need to remove the characters with unreliable year values\n",
    "true_avengers = avengers[avengers['Year'] >= 1960]\n",
    "\n",
    "true_avengers['Year'].hist()"
   ]
  },
  {
   "cell_type": "markdown",
   "metadata": {},
   "source": [
    "### Get total number of deaths for each avengers character"
   ]
  },
  {
   "cell_type": "code",
   "execution_count": 5,
   "metadata": {},
   "outputs": [
    {
     "name": "stderr",
     "output_type": "stream",
     "text": [
      "/Users/katherine.mello/.pyenv/versions/3.6.5/envs/dataquest-env/lib/python3.6/site-packages/ipykernel_launcher.py:1: SettingWithCopyWarning: \n",
      "A value is trying to be set on a copy of a slice from a DataFrame.\n",
      "Try using .loc[row_indexer,col_indexer] = value instead\n",
      "\n",
      "See the caveats in the documentation: http://pandas.pydata.org/pandas-docs/stable/indexing.html#indexing-view-versus-copy\n",
      "  \"\"\"Entry point for launching an IPython kernel.\n"
     ]
    }
   ],
   "source": [
    "true_avengers['Deaths'] = true_avengers['Death1'].apply(convert_to_num) + true_avengers['Death2'].apply(convert_to_num) + true_avengers['Death3'].apply(convert_to_num) + true_avengers['Death4'].apply(convert_to_num) + true_avengers['Death5'].apply(convert_to_num)"
   ]
  },
  {
   "cell_type": "code",
   "execution_count": 6,
   "metadata": {},
   "outputs": [
    {
     "data": {
      "text/plain": [
       "0      1\n",
       "1      1\n",
       "2      1\n",
       "3      1\n",
       "4      2\n",
       "5      0\n",
       "6      1\n",
       "7      2\n",
       "8      1\n",
       "9      1\n",
       "10     1\n",
       "11     0\n",
       "12     0\n",
       "13     1\n",
       "14     0\n",
       "15     1\n",
       "16     1\n",
       "17     0\n",
       "18     2\n",
       "19     1\n",
       "20     2\n",
       "21     1\n",
       "22     1\n",
       "23     0\n",
       "24     0\n",
       "25     0\n",
       "26     0\n",
       "27     0\n",
       "28     0\n",
       "29     3\n",
       "      ..\n",
       "143    1\n",
       "144    0\n",
       "145    0\n",
       "146    0\n",
       "147    0\n",
       "148    0\n",
       "149    0\n",
       "150    1\n",
       "151    0\n",
       "152    1\n",
       "153    1\n",
       "154    1\n",
       "155    1\n",
       "156    1\n",
       "157    0\n",
       "158    0\n",
       "159    0\n",
       "160    0\n",
       "161    0\n",
       "162    0\n",
       "163    0\n",
       "164    1\n",
       "165    0\n",
       "166    0\n",
       "167    0\n",
       "168    0\n",
       "169    0\n",
       "170    0\n",
       "171    0\n",
       "172    0\n",
       "Name: Deaths, Length: 159, dtype: int64"
      ]
     },
     "execution_count": 6,
     "metadata": {},
     "output_type": "execute_result"
    }
   ],
   "source": [
    "true_avengers['Deaths']"
   ]
  },
  {
   "cell_type": "markdown",
   "metadata": {},
   "source": [
    "### Check the accuracy of the \"Years since joining\" column"
   ]
  },
  {
   "cell_type": "code",
   "execution_count": 8,
   "metadata": {},
   "outputs": [],
   "source": [
    "# assuming data is from 2015\n",
    "joined_accuracy_count  = int()\n",
    "\n",
    "for idx, row in true_avengers.iterrows():\n",
    "    if (row['Years since joining'] == 2015 - row['Year']):\n",
    "        joined_accuracy_count += 1"
   ]
  },
  {
   "cell_type": "code",
   "execution_count": 9,
   "metadata": {},
   "outputs": [
    {
     "data": {
      "text/plain": [
       "159"
      ]
     },
     "execution_count": 9,
     "metadata": {},
     "output_type": "execute_result"
    }
   ],
   "source": [
    "joined_accuracy_count"
   ]
  },
  {
   "cell_type": "code",
   "execution_count": 11,
   "metadata": {},
   "outputs": [
    {
     "data": {
      "text/plain": [
       "159"
      ]
     },
     "execution_count": 11,
     "metadata": {},
     "output_type": "execute_result"
    }
   ],
   "source": [
    "true_avengers.shape[0]"
   ]
  },
  {
   "cell_type": "code",
   "execution_count": null,
   "metadata": {},
   "outputs": [],
   "source": []
  }
 ],
 "metadata": {
  "kernelspec": {
   "display_name": "Python 3",
   "language": "python",
   "name": "python3"
  },
  "language_info": {
   "codemirror_mode": {
    "name": "ipython",
    "version": 3
   },
   "file_extension": ".py",
   "mimetype": "text/x-python",
   "name": "python",
   "nbconvert_exporter": "python",
   "pygments_lexer": "ipython3",
   "version": "3.6.5"
  }
 },
 "nbformat": 4,
 "nbformat_minor": 2
}
